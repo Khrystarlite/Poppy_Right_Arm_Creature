{
 "cells": [
  {
   "cell_type": "code",
   "execution_count": 52,
   "metadata": {
    "collapsed": false
   },
   "outputs": [
    {
     "name": "stdout",
     "output_type": "stream",
     "text": [
      "Populating the interactive namespace from numpy and matplotlib\n"
     ]
    }
   ],
   "source": [
    "%pylab inline\n",
    "from tqdm import tqdm\n",
    "import time,wave\n",
    "import alsaaudio, time, audioop, sys, librosa,json\n",
    "import numpy as np\n",
    "\n",
    "from mpl_toolkits.mplot3d import Axes3D\n",
    "import matplotlib.pyplot as plt\n",
    "\n",
    "import pypot.dynamixel\n",
    "import pypot.robot\n",
    "from explauto.environment import environments\n",
    "\n",
    "\n",
    "my_config ={}\n",
    "my_config['controllers'] = {}\n",
    "my_config['controllers']['upper_body_controler'] = {\n",
    "    'port': '/dev/ttyUSB0',     # For Linux\n",
    "    #'port': '/dev/tty.usbserial-AI03QEN0', # For OSX\n",
    "    'sync_read': False,\n",
    "    'attached_motors': ['arms'],\n",
    "    'protocol': 1,\n",
    "}\n",
    "my_config['motorgroups']={}\n",
    "my_config['motorgroups'] = {\n",
    "    'arms': ['right_arm'],\n",
    "    'right_arm': ['r_shoulder_x', 'r_shoulder_y', 'r_arm_z','r_elbow_y']\n",
    "}\n",
    "my_config['motors'] = {}\n",
    "my_config['motors']['r_shoulder_y'] = {\n",
    "    'id': 51,\n",
    "    'type': 'MX-28',\n",
    "    'orientation': 'indirect',\n",
    "    'offset': 0.0,\n",
    "    'angle_limit': (-50, 170),\n",
    "}\n",
    "my_config['motors']['r_shoulder_x'] = {\n",
    "    'id': 52,\n",
    "    'type': 'MX-28',\n",
    "    'orientation': 'indirect',\n",
    "    'offset': 0.0,\n",
    "    'angle_limit': (-90, 0),\n",
    "}\n",
    "my_config['motors']['r_arm_z'] = {\n",
    "    'id': 53,\n",
    "    'type': 'MX-28',\n",
    "    'orientation': 'indirect',\n",
    "    'offset': 0.0,\n",
    "    'angle_limit': (-20, 95),\n",
    "}\n",
    "my_config['motors']['r_elbow_y'] = {\n",
    "    'id': 54,\n",
    "    'type': 'MX-28',\n",
    "    'orientation': 'indirect',\n",
    "    'offset': 0.0,\n",
    "    'angle_limit': (0, 130),\n",
    "}\n",
    "\n",
    "poppy = pypot.robot.from_config(my_config)\n",
    "\n",
    "poppy.start_sync()\n",
    "time.sleep(2)\n",
    "\n",
    "for m in poppy.motors:\n",
    "    m.compliant = False\n",
    "    m.goto_behavior = 'minjerk'\n",
    "pos = []\n",
    "TIME = []\n",
    "sys_load = []\n",
    "speed = []\n",
    "temp = []\n",
    "volt = []\n",
    "\n",
    "\n",
    "# audio recording setup\n",
    "\n",
    "w = wave.open(\"../in_Data/rattle.wav\",'w')\n",
    "# Open the device in nonblocking capture mode. The last argument could\n",
    "# just as well have been zero for blocking mode. Then we could have\n",
    "# left out the sleep call in the bottomvim of the loop\n",
    "inp = alsaaudio.PCM(alsaaudio.PCM_CAPTURE,alsaaudio.PCM_NONBLOCK,device='sysdefault:CARD=C920')\n",
    "\n",
    "inp.setchannels(2)\n",
    "inp.setrate(88200)\n",
    "inp.setformat(alsaaudio.PCM_FORMAT_GSM)\n",
    "\n",
    "# The period size controls the internal number of frames per period.\n",
    "# The significance of this parameter is documented in the ALSA api.\n",
    "# For our purposes, it is suficcient to know that reads from the device\n",
    "# will return this many frames. Each frame being 2 bytes long.\n",
    "# This means that the reads below will return either 320 bytes of data\n",
    "# or 0 bytes of data. The latter is possible because we are in nonblocking\n",
    "# mode.\n",
    "inp.setperiodsize(160)\n",
    "w.setnchannels(2)\n",
    "w.setsampwidth(2)\n",
    "w.setframerate(44100)\n",
    "\n",
    "data_table = []\n"
   ]
  },
  {
   "cell_type": "code",
   "execution_count": 60,
   "metadata": {
    "collapsed": true
   },
   "outputs": [],
   "source": [
    "# Primitive actions\n",
    "\n",
    "def rest_position():\n",
    "    poppy.r_shoulder_x.goal_position = 0\n",
    "    poppy.r_shoulder_y.goal_position = 0\n",
    "    poppy.r_arm_z.goal_position = 0\n",
    "    poppy.r_elbow_y.goal_position = 0\n",
    "\n",
    "def app():\n",
    "    pos.append(poppy.r_shoulder_x.present_position)\n",
    "    pos.append(poppy.r_shoulder_y.present_position)\n",
    "    pos.append(poppy.r_arm_z.present_position)\n",
    "    pos.append(poppy.r_elbow_y.present_position)\n",
    "\n",
    "    sys_load.append(poppy.r_shoulder_x.present_load)\n",
    "    sys_load.append(poppy.r_shoulder_y.present_load)\n",
    "    sys_load.append(poppy.r_arm_z.present_load)\n",
    "    sys_load.append(poppy.r_elbow_y.present_load)\n",
    "    \n",
    "    speed.append(poppy.r_shoulder_x.present_speed)\n",
    "    speed.append(poppy.r_shoulder_y.present_speed)\n",
    "    speed.append(poppy.r_arm_z.present_speed)\n",
    "    speed.append(poppy.r_elbow_y.present_speed)\n",
    "    \n",
    "    temp.append(poppy.r_shoulder_x.present_temperature)\n",
    "    temp.append(poppy.r_shoulder_y.present_temperature)\n",
    "    temp.append(poppy.r_arm_z.present_temperature)\n",
    "    temp.append(poppy.r_elbow_y.present_temperature)\n",
    "     \n",
    "    volt.append(poppy.r_shoulder_x.present_voltage)\n",
    "    volt.append(poppy.r_shoulder_y.present_voltage)\n",
    "    volt.append(poppy.r_arm_z.present_voltage)\n",
    "    volt.append(poppy.r_elbow_y.present_voltage)\n",
    "    \n",
    "def hand_wave(sec=10, rest=0.5):\n",
    "    t0 = time.time()\n",
    "    while True:\n",
    "        \n",
    "        t1 = time.time()\n",
    "        if t1-t0 >= sec:\n",
    "            break\n",
    "\n",
    "        # run for sec\n",
    "        app()\n",
    "        TIME.append(t1-t0)\n",
    "        poppy.r_shoulder_y.goal_position = -70\n",
    "        app()\n",
    "        TIME.append(t1-t0)\n",
    "        poppy.r_shoulder_x.goal_position = -170  \n",
    "        app()\n",
    "        TIME.append(t1-t0)\n",
    "        poppy.r_arm_z.goal_position = 60;\n",
    "        app()\n",
    "        TIME.append(t1-t0)\n",
    "        poppy.r_elbow_y.goal_position = 125\n",
    "        \n",
    "        app()\n",
    "        TIME.append(t1-t0)\n",
    "        time.sleep(rest)\n",
    "        \n",
    "    \n",
    "        app()\n",
    "        TIME.append(t1-t0)\n",
    "        poppy.r_shoulder_y.goal_position = -50\n",
    "        app()\n",
    "        TIME.append(t1-t0)\n",
    "        poppy.r_shoulder_x.goal_position = -135\n",
    "        app()\n",
    "        TIME.append(t1-t0)\n",
    "        poppy.r_arm_z.goal_position = 75\n",
    "        app()\n",
    "        TIME.append(t1-t0)\n",
    "        poppy.r_elbow_y.goal_position = 90\n",
    "        \n",
    "        app()\n",
    "        TIME.append(t1-t0)\n",
    "\n",
    "        time.sleep(rest)\n",
    "        app()\n",
    "\n",
    "def rattle_shake(sec=10, rest=0.42):\n",
    "    t0 = time.time()\n",
    "    while True:\n",
    "        \n",
    "        t1 = time.time()\n",
    "        if t1-t0 >= sec:\n",
    "            break\n",
    "\n",
    "        # run for sec\n",
    "        app()\n",
    "        TIME.append(t1-t0)\n",
    "        poppy.r_shoulder_y.goal_position = -25 #-25\n",
    "        app()\n",
    "        TIME.append(t1-t0)\n",
    "        poppy.r_shoulder_x.goal_position = 0  #0\n",
    "        app()\n",
    "        TIME.append(t1-t0)\n",
    "        poppy.r_arm_z.goal_position = 0; #0\n",
    "        app()\n",
    "        TIME.append(t1-t0)\n",
    "        poppy.r_elbow_y.goal_position = -10 #-10\n",
    "        \n",
    "        app()\n",
    "        TIME.append(t1-t0)\n",
    "        time.sleep(rest)\n",
    "        \n",
    "    \n",
    "        app()\n",
    "        TIME.append(t1-t0)\n",
    "        poppy.r_shoulder_y.goal_position = -45 #-45\n",
    "        app()\n",
    "        TIME.append(t1-t0)\n",
    "        poppy.r_shoulder_x.goal_position = 5 #5\n",
    "        app()\n",
    "        TIME.append(t1-t0)\n",
    "        poppy.r_arm_z.goal_position = 20 #20\n",
    "        app()\n",
    "        TIME.append(t1-t0)\n",
    "        poppy.r_elbow_y.goal_position = -65 #-129\n",
    "        \n",
    "        app()\n",
    "        TIME.append(t1-t0)\n",
    "\n",
    "        time.sleep(rest)\n",
    "        app()\n",
    "        TIME.append(t1-t0)\n"
   ]
  },
  {
   "cell_type": "code",
   "execution_count": 61,
   "metadata": {
    "collapsed": false
   },
   "outputs": [],
   "source": [
    "runn = True\n",
    "def alsa_rattle():\n",
    "    while rattle_shake().is:\n",
    "        l,data = inp.read()\n",
    "        if l:\n",
    "            # Return the maximum of the absolute value of all samples in a fragment.\n",
    "            data_table.append(audioop.max(data,2))\n",
    "            w.writeframes(data)\n",
    "            # print audioop.max(data, 2)\n",
    "        time.sleep(.001)\n",
    "    rest_position()"
   ]
  },
  {
   "cell_type": "code",
   "execution_count": 57,
   "metadata": {
    "collapsed": true
   },
   "outputs": [],
   "source": [
    "for x in data_table:\n",
    "\tprint(x)"
   ]
  },
  {
   "cell_type": "code",
   "execution_count": 56,
   "metadata": {
    "collapsed": false
   },
   "outputs": [],
   "source": [
    "alsa_rattle()\n",
    "#rest_position()"
   ]
  },
  {
   "cell_type": "code",
   "execution_count": 22,
   "metadata": {
    "collapsed": false
   },
   "outputs": [
    {
     "name": "stdout",
     "output_type": "stream",
     "text": [
      "<DxlMotor name=r_shoulder_x id=52 pos=-0.13>\n",
      "<DxlMotor name=r_shoulder_y id=51 pos=-0.31>\n",
      "<DxlMotor name=r_arm_z id=53 pos=0.13>\n",
      "<DxlMotor name=r_elbow_y id=54 pos=-0.13>\n"
     ]
    }
   ],
   "source": [
    "for x in poppy.motors:\n",
    "    print(x)"
   ]
  },
  {
   "cell_type": "code",
   "execution_count": 37,
   "metadata": {
    "collapsed": true
   },
   "outputs": [],
   "source": [
    "poppy.r_shoulder_y.goal_position = -45 #-10\n",
    "poppy.r_shoulder_x.goal_position = 5  #0\n",
    "poppy.r_arm_z.goal_position = 20; #0\n",
    "poppy.r_elbow_y.goal_position = -65 #0"
   ]
  },
  {
   "cell_type": "code",
   "execution_count": 55,
   "metadata": {
    "collapsed": true
   },
   "outputs": [],
   "source": [
    "#rattle_shake()\n",
    "rest_position()"
   ]
  },
  {
   "cell_type": "code",
   "execution_count": 51,
   "metadata": {
    "collapsed": true
   },
   "outputs": [],
   "source": [
    "# RUN at the end of working\n",
    "\n",
    "pos = []\n",
    "TIME = []\n",
    "sys_load = []\n",
    "speed = []\n",
    "temp = []\n",
    "volt = []\n",
    "for m in poppy.motors:\n",
    "    m.compliant = True\n",
    "time.sleep(1)\n",
    "poppy.stop_sync()\n",
    "poppy.close()"
   ]
  },
  {
   "cell_type": "code",
   "execution_count": null,
   "metadata": {
    "collapsed": true
   },
   "outputs": [],
   "source": []
  }
 ],
 "metadata": {
  "kernelspec": {
   "display_name": "Python 2",
   "language": "python",
   "name": "python2"
  },
  "language_info": {
   "codemirror_mode": {
    "name": "ipython",
    "version": 2
   },
   "file_extension": ".py",
   "mimetype": "text/x-python",
   "name": "python",
   "nbconvert_exporter": "python",
   "pygments_lexer": "ipython2",
   "version": "2.7.12"
  }
 },
 "nbformat": 4,
 "nbformat_minor": 2
}
